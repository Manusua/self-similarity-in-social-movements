{
 "cells": [
  {
   "cell_type": "markdown",
   "metadata": {},
   "source": [
    "# Modificación de los archivos de grafo para que los lea d-mercator"
   ]
  },
  {
   "cell_type": "markdown",
   "metadata": {},
   "source": [
    "d-mercator necesita recibir la información del grafo con la forma de un archivo con dos columnas. La primera columna se corresponde con el nodo de origen de cada una de las aristas de un grafo y la segunda columan con el nodo de destino de dichas aristas.\n",
    "\n",
    "Además, el grafo debe ser conexo (en caso contrario, d-mercator creará un nuevo archivo \".edge\", con la componente gigante del grafo)."
   ]
  },
  {
   "cell_type": "code",
   "execution_count": 2,
   "metadata": {},
   "outputs": [],
   "source": [
    "import networkx as nx"
   ]
  },
  {
   "cell_type": "markdown",
   "metadata": {},
   "source": [
    "## Creación de los archivos de grafo"
   ]
  },
  {
   "cell_type": "code",
   "execution_count": 14,
   "metadata": {},
   "outputs": [],
   "source": [
    "# No al tarifazo\n",
    "G = nx.read_gexf(\"../graphs/nodes_hashtag/nat/429624.gexf\")\n",
    "\n",
    "# Componente gigante del grafo\n",
    "Gcc = sorted(nx.connected_components(G), key=len, reverse=True)\n",
    "G = G.subgraph(Gcc[0])\n",
    "\n",
    "with open(\"graphs/nat/429624/429624.edge\", \"w\") as f:\n",
    "    for edge in G.edges():\n",
    "        f.write(edge[0] + ' ' + edge[1] + '\\n')\n",
    "\n",
    "# 9n\n",
    "G = nx.read_gexf(\"../graphs/nodes_hashtag/9n/437037.gexf\")\n",
    "\n",
    "# Componente gigante del grafo\n",
    "Gcc = sorted(nx.connected_components(G), key=len, reverse=True)\n",
    "G = G.subgraph(Gcc[0])\n",
    "\n",
    "with open(\"graphs/9n/437037/437037.edge\", \"w\") as f:\n",
    "    for edge in G.edges():\n",
    "        f.write(edge[0] + ' ' + edge[1] + '\\n')"
   ]
  },
  {
   "cell_type": "markdown",
   "metadata": {},
   "source": [
    "A continuación, hay que ejecutar el archivo dmercator_script.py desde terminal introduciendo como parámetro el archivo que debe usar: ```python3 dmercator.py```"
   ]
  },
  {
   "cell_type": "markdown",
   "metadata": {},
   "source": [
    "## Creación de los archivos de grafo filtrando aristas"
   ]
  },
  {
   "cell_type": "code",
   "execution_count": 4,
   "metadata": {},
   "outputs": [],
   "source": [
    "def create_filtered_graph(G, thresh_filt):\n",
    "    \"\"\"\n",
    "    Crea un nuevo grafo a partir de un grafo original, filtrando las aristas según un umbral de peso.\n",
    "\n",
    "    Dado un grafo `G`, esta función genera un nuevo grafo en el que solo se mantienen las aristas cuyo peso\n",
    "    es mayor o igual al umbral especificado. Las aristas con peso inferior al umbral son eliminadas.\n",
    "\n",
    "    Parámetros:\n",
    "    -----------\n",
    "    G : networkx.Graph\n",
    "        El grafo original del cual se va a filtrar.\n",
    "\n",
    "    thresh_filt : float\n",
    "        El umbral de peso. Solo se conservarán las aristas cuyo peso sea mayor o igual a este umbral.\n",
    "\n",
    "    Retorna:\n",
    "    --------\n",
    "    networkx.Graph\n",
    "        Un nuevo grafo que contiene solo las aristas con peso mayor o igual al umbral especificado.\n",
    "    \"\"\"\n",
    "    H = nx.Graph()\n",
    "    # Añade nodos del grafo original al nuevo grafo\n",
    "    H.add_nodes_from(G.nodes())\n",
    "\n",
    "    # Añade aristas que cumplen con el umbral de peso\n",
    "    for u, v, data in G.edges(data=True):\n",
    "        if data['weight'] >= thresh_filt:\n",
    "            H.add_edge(u, v, **data)\n",
    "    return H"
   ]
  },
  {
   "cell_type": "code",
   "execution_count": 16,
   "metadata": {},
   "outputs": [
    {
     "name": "stdout",
     "output_type": "stream",
     "text": [
      "Grafo reducido a 27.73 % en nodos y  28.08 % en aristas.\n",
      "Grafo reducido a 28.28 % en nodos y  22.26 % en aristas.\n"
     ]
    }
   ],
   "source": [
    "umbral_nat = 5\n",
    "umbral_9n = 5\n",
    "# No al tarifazo\n",
    "G = nx.read_gexf(\"../graphs/nodes_hashtag/nat/429624.gexf\")\n",
    "nodos_original = G.number_of_nodes()\n",
    "aristas_original = G.number_of_edges()\n",
    "G = create_filtered_graph(G, umbral_nat)\n",
    "\n",
    "# Componente gigante del grafo\n",
    "Gcc = sorted(nx.connected_components(G), key=len, reverse=True)\n",
    "G = G.subgraph(Gcc[0])\n",
    "\n",
    "with open(\"graphs/nat/429624/\" + str(umbral_nat) + \"/429624.edge\", \"w\") as f:\n",
    "    for edge in G.edges():\n",
    "        f.write(edge[0] + ' ' + edge[1] + '\\n')\n",
    "print(\"Grafo reducido a\", round(G.number_of_nodes()/nodos_original*100,2), \"% en nodos y \", round(G.number_of_edges()/aristas_original*100, 2), \"% en aristas.\")\n",
    "# 9n\n",
    "G = nx.read_gexf(\"../graphs/nodes_hashtag/9n/437037.gexf\")\n",
    "\n",
    "nodos_original = G.number_of_nodes()\n",
    "aristas_original = G.number_of_edges()\n",
    "G = create_filtered_graph(G, umbral_9n)\n",
    "\n",
    "# Componente gigante del grafo\n",
    "Gcc = sorted(nx.connected_components(G), key=len, reverse=True)\n",
    "G = G.subgraph(Gcc[0])\n",
    "\n",
    "print(\"Grafo reducido a\", round(G.number_of_nodes()/nodos_original*100,2), \"% en nodos y \", round(G.number_of_edges()/aristas_original*100, 2), \"% en aristas.\")\n",
    "with open(\"graphs/9n/437037/\" + str(umbral_9n) + \"/437037.edge\", \"w\") as f:\n",
    "    for edge in G.edges():\n",
    "        f.write(edge[0] + ' ' + edge[1] + '\\n')"
   ]
  }
 ],
 "metadata": {
  "kernelspec": {
   "display_name": "venv",
   "language": "python",
   "name": "python3"
  },
  "language_info": {
   "codemirror_mode": {
    "name": "ipython",
    "version": 3
   },
   "file_extension": ".py",
   "mimetype": "text/x-python",
   "name": "python",
   "nbconvert_exporter": "python",
   "pygments_lexer": "ipython3",
   "version": "3.12.3"
  }
 },
 "nbformat": 4,
 "nbformat_minor": 2
}
